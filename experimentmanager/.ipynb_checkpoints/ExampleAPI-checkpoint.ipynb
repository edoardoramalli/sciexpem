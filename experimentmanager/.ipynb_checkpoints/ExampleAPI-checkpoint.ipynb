{
 "cells": [
  {
   "cell_type": "markdown",
   "metadata": {},
   "source": [
    "# API SciExpeM"
   ]
  },
  {
   "cell_type": "markdown",
   "metadata": {},
   "source": [
    "## Import & Connection\n",
    "First of all, we should import the module. We can see a module as a collection of functions.\n",
    "\n",
    "Then we should create a connection to the server"
   ]
  },
  {
   "cell_type": "code",
   "execution_count": 1,
   "metadata": {},
   "outputs": [
    {
     "name": "stdout",
     "output_type": "stream",
     "text": [
      "--> Authenticated as MarioRossi Time: 2020-10-26 20:39:42.926832\n"
     ]
    }
   ],
   "source": [
    "from APISciExpeM import APISciExpeM\n",
    "API = APISciExpeM(username=\"MarioRossi\", password=\"123456\")"
   ]
  },
  {
   "cell_type": "markdown",
   "metadata": {},
   "source": [
    "## Load Experiment(s)\n",
    "Given a file or a folder, we would like to upload a new experiment."
   ]
  },
  {
   "cell_type": "code",
   "execution_count": 2,
   "metadata": {},
   "outputs": [
    {
     "name": "stdout",
     "output_type": "stream",
     "text": [
      "Imported ReSpecTh Files: 0/1\n"
     ]
    }
   ],
   "source": [
    "path_respecth_file = \"/Users/edoardo/Dropbox/SciExpem/OpenSmoke++/Simulazioni/Respecth_H2/g00000001_x.xml\"\n",
    "API.importExperiment(path_respecth_file, verbose=True)"
   ]
  },
  {
   "cell_type": "markdown",
   "metadata": {},
   "source": [
    "***\n",
    "If a folder is given instead of a file, API imports all the ReSpecTh files"
   ]
  },
  {
   "cell_type": "code",
   "execution_count": 3,
   "metadata": {},
   "outputs": [
    {
     "name": "stdout",
     "output_type": "stream",
     "text": [
      "Imported ReSpecTh Files: 0/231\n"
     ]
    }
   ],
   "source": [
    "path_respecth_file = \"/Users/edoardo/Dropbox/SciExpem/OpenSmoke++/Simulazioni/Respecth_H2/\"\n",
    "API.importExperiment(path_respecth_file, verbose=True)"
   ]
  },
  {
   "cell_type": "markdown",
   "metadata": {},
   "source": [
    "## Get Experiment(s)\n",
    "\n",
    "For example we can select an experiment base on DOI, get its data and units."
   ]
  },
  {
   "cell_type": "code",
   "execution_count": 4,
   "metadata": {},
   "outputs": [
    {
     "name": "stdout",
     "output_type": "stream",
     "text": [
      "Experiment: 10.24388/g00000001_x\n",
      "       temperature  ignition delay\n",
      "0  1181.0600000000  560.3900000000\n",
      "1  1214.8200000000  367.6100000000\n",
      "2  1260.0800000000  388.6300000000\n",
      "3  1272.7800000000  314.0400000000\n",
      "4  1295.8400000000  339.7700000000\n",
      "5  1321.7700000000  286.2500000000\n",
      "6  1343.2700000000  268.2700000000\n",
      "temperature            pint[kelvin]\n",
      "ignition delay    pint[microsecond]\n",
      "dtype: object\n"
     ]
    }
   ],
   "source": [
    "experiment_g00000001_x = API.getExperiment(fileDOI=\"10.24388/g00000001_x\")\n",
    "experiment_g00000001_x_data = API.getExperimentData(experiment_g00000001_x[0])\n",
    "API.printExperiment(experiment_g00000001_x)\n",
    "print(experiment_g00000001_x_data)\n",
    "print(experiment_g00000001_x_data.dtypes)"
   ]
  },
  {
   "cell_type": "markdown",
   "metadata": {},
   "source": [
    "***\n",
    "We can select a collection of experiment given a certain property or condition. For example just the *ignition delay measurement* with *shock tube* as reactor."
   ]
  },
  {
   "cell_type": "code",
   "execution_count": 5,
   "metadata": {},
   "outputs": [],
   "source": [
    "IDT_shock_tube_experiment = API.getExperiment(experiment_type=\"ignition delay measurement\", reactor=\"shock tube\")"
   ]
  },
  {
   "cell_type": "code",
   "execution_count": 6,
   "metadata": {},
   "outputs": [
    {
     "name": "stdout",
     "output_type": "stream",
     "text": [
      "Experiment: 10.24388/g00000001_x\n",
      "Experiment: 10.24388/x00000069_p\n",
      "Experiment: 10.24388/x10001014\n",
      "Experiment: 10.24388/x10001015\n",
      "Experiment: 10.24388/x00000070_p\n",
      "Experiment: 10.24388/g00000010\n",
      "Experiment: 10.24388/x10000024_x\n",
      "Experiment: 10.24388/g00000012\n",
      "Experiment: 10.24388/x10001017\n",
      "Experiment: 10.24388/x10001016\n",
      "Experiment: 10.24388/x00000357_p\n",
      "Experiment: 10.24388/g00000013\n",
      "Experiment: 10.24388/g00000007\n",
      "Experiment: 10.24388/x10001019_x\n",
      "Experiment: 10.24388/x10001013\n",
      "Experiment: 10.24388/g00000003_x\n",
      "Experiment: 10.24388/x10001011\n",
      "Experiment: 10.24388/x10001010\n",
      "Experiment: 10.24388/x10000023\n",
      "Experiment: 10.24388/x10000021_x\n",
      "Experiment: 10.24388/x10000022\n",
      "Experiment: 10.24388/x00000356_p\n",
      "Experiment: 10.24388/x10000020\n",
      "Experiment: 10.24388/x10000008\n",
      "Experiment: 10.24388/x00000068_p\n",
      "Experiment: 10.24388/x10000007_x\n",
      "Experiment: 10.24388/x00000071_p\n",
      "Experiment: 10.24388/x10000019\n",
      "Experiment: 10.24388/x10000031\n",
      "Experiment: 10.24388/x10000025\n",
      "Experiment: 10.24388/x10000027_x\n",
      "Experiment: 10.24388/x10000026\n",
      "Experiment: 10.24388/x10000032\n",
      "Experiment: 10.24388/g00000002_x\n",
      "Experiment: 10.24388/x10000030_x\n",
      "Experiment: 10.24388/x10000002\n",
      "Experiment: 10.24388/x10000016\n",
      "Experiment: 10.24388/x10000029_x\n",
      "Experiment: 10.24388/x10000005\n",
      "Experiment: 10.24388/x10000001\n",
      "Experiment: 10.24388/x10000028\n",
      "Experiment: 10.24388/g00000011_x\n",
      "Experiment: 10.24388/x10001012_x\n",
      "Experiment: 10.24388/x00000066_p\n",
      "Experiment: 10.24388/x10000006\n",
      "Experiment: 10.24388/g00000014_x\n",
      "Experiment: 10.24388/x10001009\n",
      "Experiment: 10.24388/x10000017_x\n",
      "Experiment: 10.24388/x10001020\n",
      "Experiment: 10.24388/x00000067_p\n",
      "Experiment: 10.24388/g00000009\n",
      "Experiment: 10.24388/x10001018\n",
      "Experiment: 10.24388/g00000008\n",
      "Experiment: 10.24388/x00000065_p\n"
     ]
    }
   ],
   "source": [
    "API.printExperiment(IDT_shock_tube_experiment)"
   ]
  },
  {
   "cell_type": "markdown",
   "metadata": {},
   "source": [
    "## Load Experiment Input(s) OpenSmoke"
   ]
  },
  {
   "cell_type": "code",
   "execution_count": 7,
   "metadata": {},
   "outputs": [
    {
     "name": "stdout",
     "output_type": "stream",
     "text": [
      "Imported OpenSmoke Input: 0/175\n"
     ]
    }
   ],
   "source": [
    "API.importExperimentInputOS(path=\"/Users/edoardo/Dropbox/SciExpem/OpenSmoke++/Simulazioni/CRECK_1412\", verbose=True)"
   ]
  },
  {
   "cell_type": "markdown",
   "metadata": {},
   "source": [
    "## Load OS model(s)"
   ]
  },
  {
   "cell_type": "code",
   "execution_count": 8,
   "metadata": {},
   "outputs": [
    {
     "name": "stdout",
     "output_type": "stream",
     "text": [
      "Imported Models: 0/6\n"
     ]
    }
   ],
   "source": [
    "API.importModelOS(path=\"/Users/edoardo/Desktop/CurveMatchingSimulations-2/KineticMechanisms\", verbose=True)"
   ]
  },
  {
   "cell_type": "markdown",
   "metadata": {},
   "source": [
    "***\n",
    "Let's see which are the model in system"
   ]
  },
  {
   "cell_type": "code",
   "execution_count": 9,
   "metadata": {},
   "outputs": [
    {
     "name": "stdout",
     "output_type": "stream",
     "text": [
      "Model: CRECK_1412_PRF_PAH_ALCOHOLS_ETHERS_LT\n",
      "Model: CRECK_2003_H2\n",
      "Model: CRECK_2003_SYNGAS\n",
      "Model: CRECK_1412_H2\n",
      "Model: CRECK_1412_H2CO\n",
      "Model: CRECK_2003_TPRF_HT_LT_ALC\n"
     ]
    }
   ],
   "source": [
    "chemModels = API.getModel()\n",
    "API.printModel(chemModels)"
   ]
  },
  {
   "cell_type": "markdown",
   "metadata": {},
   "source": [
    "***\n",
    "Now let's take a precise model"
   ]
  },
  {
   "cell_type": "code",
   "execution_count": 10,
   "metadata": {},
   "outputs": [],
   "source": [
    "CRECK_2003_H2_model = API.getModel(name=\"CRECK_2003_H2\")\n",
    "CRECK_1412_H2_model = API.getModel(name=\"CRECK_1412_H2\")"
   ]
  },
  {
   "cell_type": "markdown",
   "metadata": {},
   "source": [
    "## Execute Experiment(s)\n",
    "For example execute an experiment *10.24388/g00000001_x* using *CRECK_2003_H2* as ChemModel"
   ]
  },
  {
   "cell_type": "code",
   "execution_count": 11,
   "metadata": {},
   "outputs": [],
   "source": [
    "API.executeOS(experiment_g00000001_x, CRECK_2003_H2_model)\n",
    "API.executeOS(experiment_g00000001_x, CRECK_1412_H2_model)"
   ]
  },
  {
   "cell_type": "markdown",
   "metadata": {},
   "source": [
    "Now let's take the result of the execution"
   ]
  },
  {
   "cell_type": "code",
   "execution_count": 12,
   "metadata": {},
   "outputs": [],
   "source": [
    "execution_CRECK_2003_H2 = API.getExecution(experiment=experiment_g00000001_x[0], chemModel=CRECK_2003_H2_model[0])\n"
   ]
  },
  {
   "cell_type": "code",
   "execution_count": 13,
   "metadata": {},
   "outputs": [
    {
     "name": "stdout",
     "output_type": "stream",
     "text": [
      "              t               T0                 P0            V0  \\\n",
      "0  0.7772600000  1181.0600000000  207716.2000000000  0.0000010000   \n",
      "1  0.7772600000  1214.8200000000  207716.2000000000  0.0000010000   \n",
      "2  0.7772600000  1260.0800000000  207716.2000000000  0.0000010000   \n",
      "3  0.7772600000  1272.7800000000  207716.2000000000  0.0000010000   \n",
      "4  0.7772600000  1295.8400000000  207716.2000000000  0.0000010000   \n",
      "5  0.7772600000  1321.7700000000  207716.2000000000  0.0000010000   \n",
      "6  0.7772600000  1343.2700000000  207716.2000000000  0.0000010000   \n",
      "\n",
      "                 T                  P             V           rho  \\\n",
      "0  1309.8180000000  229596.1000000000  0.0000010000  0.8390935000   \n",
      "1  1343.5430000000  228963.1000000000  0.0000010000  0.8157750000   \n",
      "2  1388.7480000000  228166.4000000000  0.0000010000  0.7864737000   \n",
      "3  1401.4310000000  227952.8000000000  0.0000010000  0.7786262000   \n",
      "4  1424.4590000000  227575.3000000000  0.0000010000  0.7647702000   \n",
      "5  1450.3490000000  227166.1000000000  0.0000010000  0.7497672000   \n",
      "6  1471.8140000000  226838.4000000000  0.0000010000  0.7377666000   \n",
      "\n",
      "              MW    tau_T(max)  tau_T(slope)    tau_P(max)  tau_P(slope)  \n",
      "0  39.8007200000  0.7772600000  0.0011365290  0.7772600000  0.0011365290  \n",
      "1  39.8006900000  0.7772600000  0.0009494330  0.7772600000  0.0009494330  \n",
      "2  39.8006600000  0.7772600000  0.0007608711  0.7772600000  0.0007608711  \n",
      "3  39.8006500000  0.7772600000  0.0007168475  0.7772600000  0.0007168475  \n",
      "4  39.8006300000  0.7772600000  0.0006472868  0.7772600000  0.0006472868  \n",
      "5  39.8006000000  0.7772600000  0.0005807383  0.7772600000  0.0005774417  \n",
      "6  39.8005800000  0.7772600000  0.0005283754  0.7772600000  0.0005283754  \n"
     ]
    }
   ],
   "source": [
    "result_execution_CRECK_2003_H2 = API.getExecutionData(execution_CRECK_2003_H2[0])\n",
    "print(result_execution_CRECK_2003_H2)"
   ]
  },
  {
   "cell_type": "markdown",
   "metadata": {},
   "source": [
    "***\n",
    "Execute all experiments using *CRECK_2003_H2* *CRECK_1412_H2*"
   ]
  },
  {
   "cell_type": "code",
   "execution_count": 14,
   "metadata": {},
   "outputs": [],
   "source": [
    "API.executeOS(IDT_shock_tube_experiment, CRECK_2003_H2_model)\n",
    "API.executeOS(IDT_shock_tube_experiment, CRECK_1412_H2_model)"
   ]
  },
  {
   "cell_type": "markdown",
   "metadata": {},
   "source": [
    "## Curve Matching"
   ]
  },
  {
   "cell_type": "code",
   "execution_count": 15,
   "metadata": {},
   "outputs": [
    {
     "name": "stdout",
     "output_type": "stream",
     "text": [
      "Execute CM: 104/104\n"
     ]
    }
   ],
   "source": [
    "API.executeCM(verbose=True)"
   ]
  },
  {
   "cell_type": "markdown",
   "metadata": {},
   "source": [
    "## Possible analysis\n"
   ]
  },
  {
   "cell_type": "code",
   "execution_count": 16,
   "metadata": {},
   "outputs": [
    {
     "ename": "AttributeError",
     "evalue": "'NoneType' object has no attribute 'gaussian_kde'",
     "output_type": "error",
     "traceback": [
      "\u001b[0;31m---------------------------------------------------------------------------\u001b[0m",
      "\u001b[0;31mAttributeError\u001b[0m                            Traceback (most recent call last)",
      "\u001b[0;32m<ipython-input-16-76d8ed1316da>\u001b[0m in \u001b[0;36m<module>\u001b[0;34m\u001b[0m\n\u001b[0;32m----> 1\u001b[0;31m \u001b[0mAPI\u001b[0m\u001b[0;34m.\u001b[0m\u001b[0mgetOutliner\u001b[0m\u001b[0;34m(\u001b[0m\u001b[0;34m)\u001b[0m\u001b[0;34m\u001b[0m\u001b[0;34m\u001b[0m\u001b[0m\n\u001b[0m",
      "\u001b[0;32m~/Documents/GitHub/sciexpem/experimentmanager/APISciExpeM.py\u001b[0m in \u001b[0;36mgetOutliner\u001b[0;34m(self, verbose)\u001b[0m\n\u001b[1;32m    300\u001b[0m         \u001b[0mgroup_labels\u001b[0m \u001b[0;34m=\u001b[0m \u001b[0;34m[\u001b[0m\u001b[0;34m'distplot'\u001b[0m\u001b[0;34m]\u001b[0m  \u001b[0;31m# name of the dataset\u001b[0m\u001b[0;34m\u001b[0m\u001b[0;34m\u001b[0m\u001b[0m\n\u001b[1;32m    301\u001b[0m \u001b[0;34m\u001b[0m\u001b[0m\n\u001b[0;32m--> 302\u001b[0;31m         \u001b[0mfig\u001b[0m \u001b[0;34m=\u001b[0m \u001b[0mff\u001b[0m\u001b[0;34m.\u001b[0m\u001b[0mcreate_distplot\u001b[0m\u001b[0;34m(\u001b[0m\u001b[0mhist_data\u001b[0m\u001b[0;34m,\u001b[0m \u001b[0mgroup_labels\u001b[0m\u001b[0;34m,\u001b[0m \u001b[0mbin_size\u001b[0m\u001b[0;34m=\u001b[0m\u001b[0;36m5\u001b[0m\u001b[0;34m,\u001b[0m \u001b[0mrug_text\u001b[0m\u001b[0;34m=\u001b[0m\u001b[0;34m[\u001b[0m\u001b[0mlist\u001b[0m\u001b[0;34m(\u001b[0m\u001b[0mvariations\u001b[0m\u001b[0;34m.\u001b[0m\u001b[0mkeys\u001b[0m\u001b[0;34m(\u001b[0m\u001b[0;34m)\u001b[0m\u001b[0;34m)\u001b[0m\u001b[0;34m]\u001b[0m\u001b[0;34m)\u001b[0m\u001b[0;34m\u001b[0m\u001b[0;34m\u001b[0m\u001b[0m\n\u001b[0m\u001b[1;32m    303\u001b[0m         \u001b[0mfig\u001b[0m\u001b[0;34m.\u001b[0m\u001b[0mshow\u001b[0m\u001b[0;34m(\u001b[0m\u001b[0;34m)\u001b[0m\u001b[0;34m\u001b[0m\u001b[0;34m\u001b[0m\u001b[0m\n\u001b[1;32m    304\u001b[0m \u001b[0;34m\u001b[0m\u001b[0m\n",
      "\u001b[0;32m~/miniconda3/envs/django/lib/python3.8/site-packages/plotly/figure_factory/_distplot.py\u001b[0m in \u001b[0;36mcreate_distplot\u001b[0;34m(hist_data, group_labels, bin_size, curve_type, colors, rug_text, histnorm, show_hist, show_curve, show_rug)\u001b[0m\n\u001b[1;32m    216\u001b[0m             ).make_normal()\n\u001b[1;32m    217\u001b[0m         \u001b[0;32melse\u001b[0m\u001b[0;34m:\u001b[0m\u001b[0;34m\u001b[0m\u001b[0;34m\u001b[0m\u001b[0m\n\u001b[0;32m--> 218\u001b[0;31m             curve = _Distplot(\n\u001b[0m\u001b[1;32m    219\u001b[0m                 \u001b[0mhist_data\u001b[0m\u001b[0;34m,\u001b[0m\u001b[0;34m\u001b[0m\u001b[0;34m\u001b[0m\u001b[0m\n\u001b[1;32m    220\u001b[0m                 \u001b[0mhistnorm\u001b[0m\u001b[0;34m,\u001b[0m\u001b[0;34m\u001b[0m\u001b[0;34m\u001b[0m\u001b[0m\n",
      "\u001b[0;32m~/miniconda3/envs/django/lib/python3.8/site-packages/plotly/figure_factory/_distplot.py\u001b[0m in \u001b[0;36mmake_kde\u001b[0;34m(self)\u001b[0m\n\u001b[1;32m    361\u001b[0m                 \u001b[0;32mfor\u001b[0m \u001b[0mx\u001b[0m \u001b[0;32min\u001b[0m \u001b[0mrange\u001b[0m\u001b[0;34m(\u001b[0m\u001b[0;36m500\u001b[0m\u001b[0;34m)\u001b[0m\u001b[0;34m\u001b[0m\u001b[0;34m\u001b[0m\u001b[0m\n\u001b[1;32m    362\u001b[0m             ]\n\u001b[0;32m--> 363\u001b[0;31m             self.curve_y[index] = scipy_stats.gaussian_kde(self.hist_data[index])(\n\u001b[0m\u001b[1;32m    364\u001b[0m                 \u001b[0mself\u001b[0m\u001b[0;34m.\u001b[0m\u001b[0mcurve_x\u001b[0m\u001b[0;34m[\u001b[0m\u001b[0mindex\u001b[0m\u001b[0;34m]\u001b[0m\u001b[0;34m\u001b[0m\u001b[0;34m\u001b[0m\u001b[0m\n\u001b[1;32m    365\u001b[0m             )\n",
      "\u001b[0;31mAttributeError\u001b[0m: 'NoneType' object has no attribute 'gaussian_kde'"
     ]
    }
   ],
   "source": [
    "API.getOutliner()"
   ]
  },
  {
   "cell_type": "markdown",
   "metadata": {},
   "source": [
    "## Example Plot\n",
    "Given an experiment as *10.24388/g00000001_x*. Compare the experimental results to *CRECK_2003_H2* and *CRECK_1412_H2*"
   ]
  },
  {
   "cell_type": "code",
   "execution_count": null,
   "metadata": {},
   "outputs": [],
   "source": [
    "API.comparePlot(experiment_g00000001_x[0])"
   ]
  },
  {
   "cell_type": "code",
   "execution_count": null,
   "metadata": {},
   "outputs": [],
   "source": []
  },
  {
   "cell_type": "code",
   "execution_count": null,
   "metadata": {},
   "outputs": [],
   "source": []
  },
  {
   "cell_type": "code",
   "execution_count": null,
   "metadata": {},
   "outputs": [],
   "source": []
  },
  {
   "cell_type": "code",
   "execution_count": null,
   "metadata": {},
   "outputs": [],
   "source": []
  },
  {
   "cell_type": "code",
   "execution_count": null,
   "metadata": {},
   "outputs": [],
   "source": []
  },
  {
   "cell_type": "code",
   "execution_count": null,
   "metadata": {},
   "outputs": [],
   "source": []
  }
 ],
 "metadata": {
  "kernelspec": {
   "display_name": "django_kernel",
   "language": "python",
   "name": "django_kernel"
  },
  "language_info": {
   "codemirror_mode": {
    "name": "ipython",
    "version": 3
   },
   "file_extension": ".py",
   "mimetype": "text/x-python",
   "name": "python",
   "nbconvert_exporter": "python",
   "pygments_lexer": "ipython3",
   "version": "3.8.5"
  }
 },
 "nbformat": 4,
 "nbformat_minor": 4
}
